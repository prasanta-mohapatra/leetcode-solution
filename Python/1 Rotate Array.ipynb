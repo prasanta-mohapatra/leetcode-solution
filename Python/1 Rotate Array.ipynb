{
 "cells": [
  {
   "attachments": {},
   "cell_type": "markdown",
   "metadata": {},
   "source": [
    "### Rotate Array\n",
    "#### Rotate an array of n elements to the right by k steps.\n",
    "#### For example, with n = 7 and k = 3, the array [1,2,3,4,5,6,7] is rotated to [5,6,7,1,2,3,4]"
   ]
  },
  {
   "cell_type": "code",
   "execution_count": 18,
   "metadata": {},
   "outputs": [],
   "source": [
    "# Array Rotation with Slicing method\n",
    "\n",
    "def rotate_array(n:int, k:int, arr:list):\n",
    "    return [*arr[n-k:], *arr[:n-k]]"
   ]
  },
  {
   "cell_type": "code",
   "execution_count": 19,
   "metadata": {},
   "outputs": [],
   "source": [
    "# Array Rotation with For Loop\n",
    "\n",
    "def rotate_array(n:int, k:int, arr:list):\n",
    "    rotated_array = [0] * n\n",
    "    for i in range(n):\n",
    "        rotated_array[(i + k) % n] = arr[i]\n",
    "    return rotated_array"
   ]
  },
  {
   "cell_type": "code",
   "execution_count": null,
   "metadata": {},
   "outputs": [],
   "source": []
  },
  {
   "attachments": {},
   "cell_type": "markdown",
   "metadata": {},
   "source": [
    "#### Test the Solution"
   ]
  },
  {
   "cell_type": "code",
   "execution_count": 20,
   "metadata": {},
   "outputs": [
    {
     "name": "stdout",
     "output_type": "stream",
     "text": [
      "[5, 6, 7, 1, 2, 3, 4]\n"
     ]
    }
   ],
   "source": [
    "nos_element = 7\n",
    "steps = 3\n",
    "array = [1, 2, 3, 4, 5, 6, 7]\n",
    "solution = [5, 6, 7, 1, 2, 3, 4]\n",
    "\n",
    "result = rotate_array(nos_element, steps, array)\n",
    "\n",
    "print(result)\n",
    "assert result == solution"
   ]
  },
  {
   "cell_type": "code",
   "execution_count": null,
   "metadata": {},
   "outputs": [],
   "source": []
  }
 ],
 "metadata": {
  "kernelspec": {
   "display_name": "Python 3",
   "language": "python",
   "name": "python3"
  },
  "language_info": {
   "codemirror_mode": {
    "name": "ipython",
    "version": 3
   },
   "file_extension": ".py",
   "mimetype": "text/x-python",
   "name": "python",
   "nbconvert_exporter": "python",
   "pygments_lexer": "ipython3",
   "version": "3.10.8"
  },
  "orig_nbformat": 4
 },
 "nbformat": 4,
 "nbformat_minor": 2
}
